{
 "cells": [
  {
   "cell_type": "code",
   "execution_count": 13,
   "metadata": {
    "id": "mrEyNpYX2SPS"
   },
   "outputs": [],
   "source": [
    "import numpy as np\n",
    "import pandas as pd\n",
    "import matplotlib.pyplot as plt"
   ]
  },
  {
   "cell_type": "code",
   "execution_count": 6,
   "metadata": {
    "id": "dF-K_pCe3v0m"
   },
   "outputs": [],
   "source": [
    "def kernel(point,xmat, k):\n",
    "  m,n = np.shape(xmat)\n",
    "  weights = np.mat(np.eye((m)))\n",
    "  for j in range(m):\n",
    "    diff = point - X[j]\n",
    "    weights[j,j] = np.exp(diff*diff.T/(-2.0*k**2))\n",
    "  return weights"
   ]
  },
  {
   "cell_type": "code",
   "execution_count": 7,
   "metadata": {
    "id": "xjtNJ4tY313m"
   },
   "outputs": [],
   "source": [
    "def localWeight(point,xmat,ymat,k):\n",
    "  wei = kernel(point,xmat,k)\n",
    "  W = (X.T*(wei*X)).I*(X.T*(wei*ymat.T))\n",
    "  return W\n",
    "def localWeightRegression(xmat,ymat,k):\n",
    "  m,n = np.shape(xmat)\n",
    "  ypred = np.zeros(m)\n",
    "  for i in range(m):\n",
    "    ypred[i] = xmat[i]*localWeight(xmat[i],xmat,ymat,k)\n",
    "  return ypred"
   ]
  },
  {
   "cell_type": "code",
   "execution_count": 8,
   "metadata": {
    "id": "hc2Po1RMAsLP"
   },
   "outputs": [],
   "source": [
    "data = pd.read_csv('10-dataset.csv')"
   ]
  },
  {
   "cell_type": "code",
   "execution_count": 9,
   "metadata": {
    "id": "Ak8ie07U38gt"
   },
   "outputs": [],
   "source": [
    "colA = np.array(data.total_bill)\n",
    "colB = np.array(data.tip)"
   ]
  },
  {
   "cell_type": "code",
   "execution_count": 10,
   "metadata": {
    "id": "thZDouhJ4AKe"
   },
   "outputs": [],
   "source": [
    "mcolA = np.mat(colA)\n",
    "mcolB = np.mat(colB)\n",
    "m= np.shape(mcolA)[1]\n",
    "one = np.ones((1,m),dtype=int)"
   ]
  },
  {
   "cell_type": "code",
   "execution_count": 11,
   "metadata": {
    "colab": {
     "base_uri": "https://localhost:8080/"
    },
    "id": "gxKWhcLS4ChB",
    "outputId": "6fe44526-23fb-4b55-ed16-4e2ec7c5a385"
   },
   "outputs": [
    {
     "name": "stdout",
     "output_type": "stream",
     "text": [
      "(244, 2)\n"
     ]
    }
   ],
   "source": [
    "X= np.hstack((one.T,mcolA.T))\n",
    "print(X.shape)"
   ]
  },
  {
   "cell_type": "code",
   "execution_count": 12,
   "metadata": {
    "colab": {
     "base_uri": "https://localhost:8080/",
     "height": 279
    },
    "id": "TwYyEQ6S4Hqo",
    "outputId": "28f374eb-70b9-4b24-c9fc-ce43c23aa080"
   },
   "outputs": [
    {
     "data": {
      "image/png": "[encoded data removed]",
      "text/plain": [
       "<Figure size 432x288 with 1 Axes>"
      ]
     },
     "metadata": {
      "needs_background": "light"
     },
     "output_type": "display_data"
    }
   ],
   "source": [
    "ypred = localWeightRegression(X,mcolB,0.5)\n",
    "SortIndex = X[:,1].argsort(0)\n",
    "xsort = X[SortIndex][:,0]\n",
    "fig = plt.figure()\n",
    "ax = fig.add_subplot(1,1,1)\n",
    "ax.scatter(colA,colB, color='green')\n",
    "ax.plot(xsort[:,1],ypred[SortIndex], color = 'red', linewidth=5)\n",
    "plt.xlabel('colA')\n",
    "plt.ylabel('colB')\n",
    "plt.show();"
   ]
  }
 ],
 "metadata": {
  "colab": {
   "name": "WeightedRegression.ipynb",
   "provenance": []
  },
  "kernelspec": {
   "display_name": "Python 3",
   "language": "python",
   "name": "python3"
  },
  "language_info": {
   "codemirror_mode": {
    "name": "ipython",
    "version": 3
   },
   "file_extension": ".py",
   "mimetype": "text/x-python",
   "name": "python",
   "nbconvert_exporter": "python",
   "pygments_lexer": "ipython3",
   "version": "3.8.8"
  }
 },
 "nbformat": 4,
 "nbformat_minor": 1
}
